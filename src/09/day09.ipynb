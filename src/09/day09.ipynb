{
 "cells": [
  {
   "cell_type": "code",
   "execution_count": 42,
   "metadata": {
    "ExecuteTime": {
     "end_time": "2019-12-09T08:42:58.408937Z",
     "start_time": "2019-12-09T08:42:58.323642Z"
    },
    "pycharm": {
     "is_executing": false,
     "name": "#%%\n"
    }
   },
   "outputs": [
    {
     "name": "stdout",
     "text": [
      "[2518058886, None]\n",
      "[44292, None]\n"
     ],
     "output_type": "stream"
    }
   ],
   "source": [
    "# part 1 & 2\n",
    "import itertools\n",
    "\n",
    "def get_param(a, input_index, param_mode, rel_base):\n",
    "    if param_mode == 1:\n",
    "        return input_index\n",
    "    elif param_mode == 2:\n",
    "        return a[input_index] + rel_base \n",
    "    else:\n",
    "        return a[input_index] if input_index < len(a) else 0\n",
    "\n",
    "def get_digit(number, n):\n",
    "    return number // 10**n % 10\n",
    "\n",
    "def get_params(a, input_index, rel_base, out_idx):\n",
    "    param_mode = [get_digit(a[input_index], i) for i in range(2, 5)]\n",
    "    params = [get_param(a, input_index + i, param_mode[i-1], rel_base) for i in range(1,out_idx+1)]\n",
    "    return params\n",
    "\n",
    "def opcode_1(a, input_index, rel_base):\n",
    "    param_1, param_2, param_3 = get_params(a, input_index, rel_base, 3);\n",
    "    a[param_3] = a[param_1] + a[param_2]\n",
    "    return input_index + 4\n",
    "\n",
    "def opcode_2(a, input_index, rel_base):\n",
    "    param_1, param_2, param_3 = get_params(a, input_index, rel_base, 3);\n",
    "    a[param_3] = a[param_1] * a[param_2]\n",
    "    return input_index + 4\n",
    "\n",
    "def opcode_3(a, input_index, input_param, rel_base):\n",
    "    param_1, = get_params(a, input_index, rel_base, 1);\n",
    "    a[param_1] = input_param\n",
    "    # print ('a[',param_1, ']=', input_param, ' index: ', input_index)\n",
    "    return input_index + 2\n",
    "\n",
    "def opcode_4(a, input_index, rel_base):\n",
    "    param_1, _ = get_params(a, input_index, rel_base, 2);\n",
    "    return input_index + 2, a[param_1]\n",
    "\n",
    "def opcode_5(a, input_index, rel_base):\n",
    "    param_1, param_2, _ = get_params(a, input_index, rel_base, 3);\n",
    "    if a[param_1] > 0:\n",
    "        return  a[param_2]\n",
    "    return input_index + 3\n",
    "\n",
    "def opcode_6(a, input_index, rel_base):\n",
    "    param_1, param_2, _ = get_params(a, input_index, rel_base, 3);\n",
    "    if a[param_1] == 0:\n",
    "        return a[param_2]\n",
    "    return input_index + 3\n",
    "\n",
    "def opcode_7(a, input_index, rel_base):\n",
    "    param_1, param_2, param_3 = get_params(a, input_index, rel_base, 3);\n",
    "    a[param_3] = int(a[param_1] < a[param_2])\n",
    "    return input_index + 4 \n",
    "\n",
    "def opcode_8(a, input_index, rel_base):\n",
    "    param_1, param_2, param_3 = get_params(a, input_index, rel_base, 3);\n",
    "    a[param_3] = int(a[param_1] == a[param_2])\n",
    "    return input_index + 4\n",
    "\n",
    "def opcode_9(a, input_index, rel_base):\n",
    "    param_1, _ = get_params(a, input_index, rel_base, 2);\n",
    "    rel_modifier = param_1\n",
    "    return input_index + 2, rel_modifier\n",
    "\n",
    "opcodes = {1:opcode_1, 2: opcode_2, 3:opcode_3, 4:opcode_4, 5:opcode_5, 6: opcode_6, 7:opcode_7, 8:opcode_8, 9:opcode_9}\n",
    "\n",
    "def intcode(a, a_input):\n",
    "    input_index = 0\n",
    "    rel_base = 0\n",
    "    while a[input_index] != 99:\n",
    "        opcode = a[input_index] % 100\n",
    "        \n",
    "        if opcode == 3:\n",
    "            params_1 = a_input.pop(0)\n",
    "            input_index = opcode_3(a, input_index, params_1, rel_base)\n",
    "        elif opcode == 4:\n",
    "            input_index, out_result = opcode_4(a, input_index, rel_base)\n",
    "            yield out_result\n",
    "        elif opcode == 9:\n",
    "            input_index,rel_modifier = opcode_9(a, input_index, rel_base)\n",
    "            rel_base += a[rel_modifier]\n",
    "        else:\n",
    "            input_index = opcodes[opcode](a, input_index, rel_base)\n",
    "    yield None\n",
    "\n",
    "code = list(map(int, open('input.txt').read().split(\",\")))\n",
    "test = [109,1,204,-1,1001,100,1,100,1008,100,16,101,1006,101,0,99]\n",
    "test2 = [1102,34915192,34915192,7,4,7,99,0]\n",
    "test3= [104,1125899906842624,99]\n",
    "\n",
    "def prepare_input(a):\n",
    "    a.extend([0]*100000)\n",
    "    return a\n",
    "\n",
    "print(list(intcode(prepare_input(code), [1])))\n",
    "print(list(intcode(prepare_input(code), [2])))"
   ]
  },
  {
   "cell_type": "code",
   "execution_count": null,
   "outputs": [],
   "source": [
    "\n"
   ],
   "metadata": {
    "collapsed": false,
    "pycharm": {
     "name": "#%%\n"
    }
   }
  }
 ],
 "metadata": {
  "kernelspec": {
   "display_name": "Python 3",
   "language": "python",
   "name": "python3"
  },
  "language_info": {
   "codemirror_mode": {
    "name": "ipython",
    "version": 3
   },
   "file_extension": ".py",
   "mimetype": "text/x-python",
   "name": "python",
   "nbconvert_exporter": "python",
   "pygments_lexer": "ipython3",
   "version": "3.7.4"
  },
  "varInspector": {
   "cols": {
    "lenName": 16,
    "lenType": 16,
    "lenVar": 40
   },
   "kernels_config": {
    "python": {
     "delete_cmd_postfix": "",
     "delete_cmd_prefix": "del ",
     "library": "var_list.py",
     "varRefreshCmd": "print(var_dic_list())"
    },
    "r": {
     "delete_cmd_postfix": ") ",
     "delete_cmd_prefix": "rm(",
     "library": "var_list.r",
     "varRefreshCmd": "cat(var_dic_list()) "
    }
   },
   "types_to_exclude": [
    "module",
    "function",
    "builtin_function_or_method",
    "instance",
    "_Feature"
   ],
   "window_display": false
  },
  "pycharm": {
   "stem_cell": {
    "cell_type": "raw",
    "source": [],
    "metadata": {
     "collapsed": false
    }
   }
  }
 },
 "nbformat": 4,
 "nbformat_minor": 2
}