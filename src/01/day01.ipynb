{
 "cells": [
  {
   "cell_type": "code",
   "execution_count": 1,
   "metadata": {
    "ExecuteTime": {
     "end_time": "2019-12-04T09:04:18.620145Z",
     "start_time": "2019-12-04T09:04:18.611041Z"
    },
    "pycharm": {
     "is_executing": false
    }
   },
   "outputs": [
    {
     "name": "stdout",
     "text": [
      "results: 3233481\n"
     ],
     "output_type": "stream"
    }
   ],
   "source": [
    "# part 1\n",
    "import math\n",
    "a = [\n",
    "    54755, 96495, 111504, 53923, 118158, 118082, 137413, 135315, 87248, 127646,\n",
    "    79201, 52399, 77966, 129568, 63880, 128973, 55491, 111226, 126447, 87017,\n",
    "    112469, 83975, 51280, 60239, 120524, 57122, 136517, 117378, 93629, 55125,\n",
    "    68990, 70336, 115119, 68264, 148122, 70075, 106770, 54976, 123852, 61813,\n",
    "    113373, 53924, 59660, 67111, 52825, 81568, 110842, 134870, 135529, 78689,\n",
    "    129451, 96041, 91627, 70863, 100098, 121908, 96623, 143752, 149936, 116283,\n",
    "    149488, 126158, 106499, 124927, 109574, 70711, 139078, 67212, 124251,\n",
    "    123803, 73569, 145668, 96045, 59748, 123238, 68005, 121412, 97236, 104800,\n",
    "    86786, 141680, 123807, 82310, 76593, 146092, 82637, 92339, 93821, 56247,\n",
    "    58328, 90159, 105700, 57317, 69011, 125544, 102372, 63797, 92127, 111207,\n",
    "    77596\n",
    "]\n",
    "print(\"results: \" + str(sum(math.floor(i / 3) - 2 for i in a)))"
   ]
  },
  {
   "cell_type": "code",
   "execution_count": 2,
   "metadata": {
    "ExecuteTime": {
     "end_time": "2019-12-04T09:04:38.945034Z",
     "start_time": "2019-12-04T09:04:38.934631Z"
    },
    "pycharm": {
     "is_executing": false
    }
   },
   "outputs": [
    {
     "name": "stdout",
     "text": [
      "results: 4847351\n"
     ],
     "output_type": "stream"
    }
   ],
   "source": [
    "# part 2\n",
    "import math\n",
    "a = [\n",
    "    54755, 96495, 111504, 53923, 118158, 118082, 137413, 135315, 87248, 127646,\n",
    "    79201, 52399, 77966, 129568, 63880, 128973, 55491, 111226, 126447, 87017,\n",
    "    112469, 83975, 51280, 60239, 120524, 57122, 136517, 117378, 93629, 55125,\n",
    "    68990, 70336, 115119, 68264, 148122, 70075, 106770, 54976, 123852, 61813,\n",
    "    113373, 53924, 59660, 67111, 52825, 81568, 110842, 134870, 135529, 78689,\n",
    "    129451, 96041, 91627, 70863, 100098, 121908, 96623, 143752, 149936, 116283,\n",
    "    149488, 126158, 106499, 124927, 109574, 70711, 139078, 67212, 124251,\n",
    "    123803, 73569, 145668, 96045, 59748, 123238, 68005, 121412, 97236, 104800,\n",
    "    86786, 141680, 123807, 82310, 76593, 146092, 82637, 92339, 93821, 56247,\n",
    "    58328, 90159, 105700, 57317, 69011, 125544, 102372, 63797, 92127, 111207,\n",
    "    77596\n",
    "]\n",
    "sum_all = 0\n",
    "\n",
    "for i in a:\n",
    "    curr_fuel = i\n",
    "    while (True):\n",
    "        new_fuel = math.floor(curr_fuel / 3) - 2\n",
    "        if (new_fuel <= 0):\n",
    "            break\n",
    "        sum_all += new_fuel\n",
    "        curr_fuel = new_fuel\n",
    "print(\"results: \" + str(sum_all))"
   ]
  },
  {
   "cell_type": "code",
   "execution_count": 2,
   "metadata": {
    "pycharm": {
     "is_executing": false
    }
   },
   "outputs": [],
   "source": []
  }
 ],
 "metadata": {
  "kernelspec": {
   "display_name": "Python 3",
   "language": "python",
   "name": "python3"
  },
  "language_info": {
   "codemirror_mode": {
    "name": "ipython",
    "version": 3
   },
   "file_extension": ".py",
   "mimetype": "text/x-python",
   "name": "python",
   "nbconvert_exporter": "python",
   "pygments_lexer": "ipython3",
   "version": "3.7.4"
  },
  "varInspector": {
   "cols": {
    "lenName": 16,
    "lenType": 16,
    "lenVar": 40
   },
   "kernels_config": {
    "python": {
     "delete_cmd_postfix": "",
     "delete_cmd_prefix": "del ",
     "library": "var_list.py",
     "varRefreshCmd": "print(var_dic_list())"
    },
    "r": {
     "delete_cmd_postfix": ") ",
     "delete_cmd_prefix": "rm(",
     "library": "var_list.r",
     "varRefreshCmd": "cat(var_dic_list()) "
    }
   },
   "types_to_exclude": [
    "module",
    "function",
    "builtin_function_or_method",
    "instance",
    "_Feature"
   ],
   "window_display": false
  }
 },
 "nbformat": 4,
 "nbformat_minor": 2
}