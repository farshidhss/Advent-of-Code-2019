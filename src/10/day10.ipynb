{
 "cells": [
  {
   "cell_type": "code",
   "execution_count": 73,
   "metadata": {
    "ExecuteTime": {
     "end_time": "2019-12-21T16:50:12.935196Z",
     "start_time": "2019-12-21T16:50:02.397465Z"
    },
    "code_folding": [
     17
    ],
    "pycharm": {
     "is_executing": false
    }
   },
   "outputs": [
    {
     "name": "stdout",
     "text": [
      "rows, cols: (23, 23)\n",
      ".###..#......###..#...#\n",
      "#.#..#.##..###..#...#.#\n",
      "#.#.#.##.#..##.#.###.##\n",
      ".#..#...####.#.##..##..\n",
      "#.###.#.####.##.#######\n",
      "..#######..##..##.#.###\n",
      ".##.#...##.##.####..###\n",
      "....####.####.#########\n",
      "#.########.#...##.####.\n",
      ".#.#..#.#.#.#.##.###.##\n",
      "#..#.#..##...#..#.####.\n",
      ".###.#.#...###....###..\n",
      "###..#.###..###.#.###.#\n",
      "...###.##.#.##.#...#..#\n",
      "#......#.#.##..#...#.#.\n",
      "###.##.#..##...#..#.#.#\n",
      "###..###..##.##..##.###\n",
      "###.###.####....######.\n",
      ".###.#####.#.#.#.#####.\n",
      "##.#.###.###.##.##..##.\n",
      "##.#..#..#..#.####.#.#.\n",
      ".#.#.#.##.##########..#\n",
      "#####.##......#.#.####.\n",
      "230\n",
      "[11 19]\n"
     ],
     "output_type": "stream"
    }
   ],
   "source": [
    "import numpy as np \n",
    "\n",
    "def point_between(p1,p2):\n",
    "    gcd = math.gcd(p1[0]-p2[0],p1[1]-p2[1])\n",
    "    steps = np.array((p1-p2)//gcd)\n",
    "    xp = np.array(range(p2[0],p1[0],steps[0])) if steps[0]!=0 else np.array([p1[0]]*(abs(p2[1]-p1[1])))\n",
    "    yp = np.array(range(p2[1],p1[1],steps[1])) if steps[1]!=0 else np.array([p1[1]]*(abs(p2[0]-p1[0])))\n",
    "    points = list(zip(xp,yp))\n",
    "    return points\n",
    "\n",
    "def init_2d_list(rows, columns):\n",
    "    return [[0 for x in range(columns)] for y in range(rows)]\n",
    "\n",
    "def read_input(input_file):\n",
    "    raw_input_map=open(input_file).read().splitlines()\n",
    "    input_map=[list(raw_input_map[i]) for i in range(len(raw_input_map))]\n",
    "    asteroids=np.array([list(map(str, input_map[i])) for i in range(len(input_map))])\n",
    "    return asteroids\n",
    "\n",
    "def print_scene(asteroids):\n",
    "    for row in asteroids:\n",
    "        for c in row:\n",
    "            print (c, end=\"\")\n",
    "        print (\"\")\n",
    "\n",
    "def find_visible_moons(point, asteroids):\n",
    "    visible_moons = 0\n",
    "    covered_ast = np.zeros(asteroids.shape, dtype=int)\n",
    "    for r,row in enumerate(asteroids):\n",
    "        for c,astr in enumerate(row):\n",
    "            probe_point = np.array([r,c]) \n",
    "            if (point == probe_point).all(): \n",
    "                continue\n",
    "            if asteroids[tuple(probe_point)]=='.': continue\n",
    "                \n",
    "            point_in_between = point_between(point, probe_point)\n",
    "            for p in reversed(point_in_between): \n",
    "                if asteroids[p]==\"#\": \n",
    "                    break\n",
    "            if covered_ast[p] == 0:\n",
    "                covered_ast[p] = 1\n",
    "                visible_moons +=1\n",
    "    return visible_moons\n",
    "\n",
    "def find_best_moon(asteroids):\n",
    "    max_visible = 0\n",
    "    best_station = np.array([0,0])\n",
    "    for r,row in enumerate(asteroids):\n",
    "        for c,astr in enumerate(row):\n",
    "            current_station = np.array([r,c])\n",
    "            if asteroids[tuple(current_station)] == '.': continue\n",
    "            visible_moons = find_visible_moons(current_station, asteroids)\n",
    "            if max_visible < visible_moons:\n",
    "                max_visible = visible_moons\n",
    "                best_station = current_station\n",
    "    return max_visible, best_station\n",
    "\n",
    "asteroids = read_input('input.txt')\n",
    "# asteroids = read_input('test1.txt')\n",
    "# asteroids = read_input('test2.txt')\n",
    "# asteroids = read_input('test3.txt')\n",
    "# asteroids = read_input('test4.txt')\n",
    "# asteroids = read_input('test5.txt')\n",
    "max_visible, best_station = find_best_moon(asteroids)\n",
    "print ('rows, cols:', asteroids.shape)\n",
    "print_scene(asteroids)\n",
    "print (max_visible)\n",
    "print (best_station)\n"
   ]
  },
  {
   "cell_type": "code",
   "execution_count": 80,
   "metadata": {
    "ExecuteTime": {
     "end_time": "2019-12-15T19:37:45.618704Z",
     "start_time": "2019-12-15T19:37:45.445616Z"
    },
    "pycharm": {
     "is_executing": false
    }
   },
   "outputs": [
    {
     "data": {
      "text/plain": "<Figure size 432x288 with 1 Axes>",
      "image/png": "[encoded data removed]"
     },
     "metadata": {
      "needs_background": "light"
     },
     "output_type": "display_data"
    }
   ],
   "source": [
    "import math\n",
    "from matplotlib import pyplot as plt\n",
    "p1 = np.array([12,8])\n",
    "p2 = np.array([6,20])\n",
    "\n",
    "points = point_between(p1,p2)\n",
    "plt.plot([p1[0],p2[0]],[p1[1],p2[1]], 'r^-')\n",
    "unzipped_points = (list(zip(*points)))\n",
    "if unzipped_points:\n",
    "    plt.scatter(*unzipped_points)\n",
    "plt.show()"
   ]
  },
  {
   "cell_type": "code",
   "execution_count": 79,
   "metadata": {
    "ExecuteTime": {
     "end_time": "2019-12-15T21:36:47.962933Z",
     "start_time": "2019-12-15T21:36:47.899294Z"
    },
    "pycharm": {
     "is_executing": false
    }
   },
   "outputs": [
    {
     "name": "stdout",
     "text": [
      "[11 19]\n",
      "..|05|05|05|..|..|05|..|..|..|..|..|..|06|06|06|..|..|06|..|..|..|00|\n",
      "05|..|05|..|..|05|..|05|05|..|..|06|06|06|..|..|06|..|..|..|00|..|00|\n",
      "05|..|05|..|05|..|05|05|..|05|..|..|06|06|..|06|..|06|06|00|..|00|00|\n",
      "..|05|..|..|05|..|..|..|05|05|05|05|..|06|..|06|06|..|..|00|00|..|..|\n",
      "05|..|05|05|05|..|05|..|05|05|05|05|..|06|06|..|06|06|06|00|00|00|00|\n",
      "..|..|05|05|05|05|05|05|05|..|..|05|05|..|..|06|06|..|06|..|00|00|00|\n",
      "..|05|05|..|05|..|..|..|05|05|..|05|05|..|05|06|06|06|..|..|00|00|01|\n",
      "..|..|..|..|05|05|05|05|..|05|05|05|05|..|05|05|06|06|06|00|00|00|01|\n",
      "05|..|05|05|05|05|05|05|05|05|..|05|..|..|..|05|05|..|06|00|00|01|..|\n",
      "..|05|..|05|..|..|05|..|05|..|05|..|05|..|05|05|..|05|06|00|..|01|01|\n",
      "05|..|..|05|..|05|..|..|05|05|..|..|..|05|..|..|05|..|05|00|01|01|..|\n",
      "..|05|05|05|..|05|..|05|..|..|..|05|05|05|..|..|..|..|05|XX|02|..|..|\n",
      "05|05|05|..|..|05|..|05|05|05|..|..|05|05|05|..|04|..|04|03|02|..|02|\n",
      "..|..|..|05|05|05|..|05|05|..|04|..|04|04|..|04|..|..|..|03|..|..|02|\n",
      "05|..|..|..|..|..|..|04|..|04|..|04|04|..|..|04|..|..|..|03|..|03|..|\n",
      "05|04|04|..|04|04|..|04|..|..|04|04|..|..|..|04|..|..|03|..|03|..|02|\n",
      "04|04|04|..|..|04|04|04|..|..|04|04|..|04|04|..|..|04|03|..|03|03|03|\n",
      "04|04|04|..|04|04|04|..|04|04|04|04|..|..|..|..|04|03|03|03|03|03|..|\n",
      "..|04|04|04|..|04|04|04|04|04|..|04|..|04|..|04|..|03|03|03|03|03|..|\n",
      "04|04|..|04|..|04|04|04|..|04|04|04|..|04|04|..|04|03|..|..|03|03|..|\n",
      "04|04|..|04|..|..|04|..|..|04|..|..|04|..|04|04|03|03|..|03|..|03|..|\n",
      "..|04|..|04|..|04|..|04|04|..|04|04|04|04|04|04|03|03|03|03|..|..|03|\n",
      "04|04|04|04|04|..|04|04|..|..|..|..|..|..|04|..|03|..|03|03|03|03|..|\n"
     ],
     "output_type": "stream"
    }
   ],
   "source": [
    "from operator import itemgetter\n",
    "import itertools, operator\n",
    "from scipy.spatial import distance\n",
    "\n",
    "def unit_vector(vector):\n",
    "    return vector / np.linalg.norm(vector)\n",
    "\n",
    "def angle_between(v1, v2):\n",
    "    v1_u = unit_vector(v1)\n",
    "    v2_u = unit_vector(v2)\n",
    "    # this problem will not work without the rounding below!\n",
    "    return round(np.arccos(np.clip(np.dot(v1_u, v2_u), -1.0, 1.0)),10) \n",
    "\n",
    "up = (0,-1)\n",
    "next_angle = []\n",
    "coords_to_angle = {}\n",
    "min_angle=999\n",
    "bx=best_station[1]\n",
    "by=best_station[0]\n",
    "for r,row in enumerate(asteroids):\n",
    "    for c,col in enumerate(row):\n",
    "        if asteroids[(r,c)]=='#' and (c,r)!= (best_station[1],best_station[0]):\n",
    "            ang = angle_between(up, (c-bx,r-by) )\n",
    "            if c<bx :\n",
    "                ang= 2*math.pi-ang\n",
    "            next_angle.append((ang, (r,c)))\n",
    "            coords_to_angle[(r,c)] = ang\n",
    "next_angle_sorted = sorted(next_angle,key=itemgetter(0))\n",
    "\n",
    "print (best_station)\n",
    "for r,row in enumerate(asteroids):\n",
    "    for c,col in enumerate(row):\n",
    "        if (c,r) == (best_station[1],best_station[0]):\n",
    "            print (\"XX|\", end=\"\")\n",
    "        elif asteroids[(r,c)]==\".\":\n",
    "            print (col+col+'|', end=\"\")\n",
    "        else:\n",
    "            print (f\"{coords_to_angle[(r,c)]:02.0f}|\", end=\"\")\n",
    "    print(\"\")\n",
    "    "
   ]
  },
  {
   "cell_type": "code",
   "execution_count": 78,
   "outputs": [
    {
     "name": "stdout",
     "text": [
      "answer:  1205\n"
     ],
     "output_type": "stream"
    }
   ],
   "source": [
    "res = [group for group in next_angle if group[0]==0]\n",
    "res2 = itertools.groupby(next_angle_sorted, key=operator.itemgetter(0))\n",
    "ang_to_coords = []\n",
    "for key, group in res2:\n",
    "    ang_to_coords.append((key, list(group)))\n",
    "\n",
    "ind =199 \n",
    "mind = min(ang_to_coords[ind][1], key=lambda x: distance.euclidean(x[1], best_station ))\n",
    "print (\"answer: \" , mind[1][1]*100+mind[1][0])\n",
    "\n",
    "# nth_asteroid_removed = 0\n",
    "# print ('station', (best_station[1],best_station[0]))\n",
    "# while True:\n",
    "#     for p in ang_to_coords:\n",
    "#         mind = min(p[1], key=lambda x: distance.euclidean(x[1], (best_station[0], best_station[1])));\n",
    "#         print (\"mind:\", mind)\n",
    "#         p[1].remove(mind)\n",
    "#         nth_asteroid_removed +=1\n",
    "#         if nth_asteroid_removed == 200:\n",
    "#             print(p)\n",
    "#             break\n",
    "#         if len(p[1])== 0:\n",
    "#             print (\"angle with no points left: \", p)\n",
    "#             ang_to_coords.remove(p)\n",
    "#     if nth_asteroid_removed == 200:\n",
    "#             print(p)\n",
    "#             break"
   ],
   "metadata": {
    "collapsed": false,
    "pycharm": {
     "name": "#%%\n",
     "is_executing": false
    }
   }
  },
  {
   "cell_type": "code",
   "execution_count": null,
   "outputs": [],
   "source": [
    "\n"
   ],
   "metadata": {
    "collapsed": false,
    "pycharm": {
     "name": "#%%\n"
    }
   }
  }
 ],
 "metadata": {
  "kernelspec": {
   "display_name": "Python 3",
   "language": "python",
   "name": "python3"
  },
  "language_info": {
   "codemirror_mode": {
    "name": "ipython",
    "version": 3
   },
   "file_extension": ".py",
   "mimetype": "text/x-python",
   "name": "python",
   "nbconvert_exporter": "python",
   "pygments_lexer": "ipython3",
   "version": "3.7.4"
  },
  "pycharm": {
   "stem_cell": {
    "cell_type": "raw",
    "source": [],
    "metadata": {
     "collapsed": false
    }
   }
  },
  "varInspector": {
   "cols": {
    "lenName": 16,
    "lenType": 16,
    "lenVar": 40
   },
   "kernels_config": {
    "python": {
     "delete_cmd_postfix": "",
     "delete_cmd_prefix": "del ",
     "library": "var_list.py",
     "varRefreshCmd": "print(var_dic_list())"
    },
    "r": {
     "delete_cmd_postfix": ") ",
     "delete_cmd_prefix": "rm(",
     "library": "var_list.r",
     "varRefreshCmd": "cat(var_dic_list()) "
    }
   },
   "types_to_exclude": [
    "module",
    "function",
    "builtin_function_or_method",
    "instance",
    "_Feature"
   ],
   "window_display": false
  }
 },
 "nbformat": 4,
 "nbformat_minor": 2
}