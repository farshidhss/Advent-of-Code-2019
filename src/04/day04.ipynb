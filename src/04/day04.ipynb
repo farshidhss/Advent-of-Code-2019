{
 "cells": [
  {
   "cell_type": "code",
   "execution_count": 7,
   "metadata": {
    "ExecuteTime": {
     "end_time": "2019-12-04T09:42:41.602745Z",
     "start_time": "2019-12-04T09:42:39.335781Z"
    }
   },
   "outputs": [
    {
     "data": {
      "text/plain": [
       "1330"
      ]
     },
     "execution_count": 7,
     "metadata": {},
     "output_type": "execute_result"
    }
   ],
   "source": [
    "# part 1\n",
    "\n",
    "\n",
    "def at_least_one_duplicate(a):\n",
    "    b = [i for i in range(11, 100, 11)]\n",
    "    for i in b:\n",
    "        if (str(i) in str(a)):\n",
    "            return True\n",
    "    return False\n",
    "\n",
    "\n",
    "def alwasy_increasing(a):\n",
    "    for i in range(0, 5):\n",
    "        if (str(a)[i] > str(a)[i + 1]):\n",
    "            return False\n",
    "    return True\n",
    "\n",
    "\n",
    "number_of_passwords = sum([(at_least_one_duplicate(i) and alwasy_increasing(i))\n",
    "                           for i in range(231832, 767347)])\n",
    "number_of_passwords"
   ]
  },
  {
   "cell_type": "code",
   "execution_count": 8,
   "metadata": {
    "ExecuteTime": {
     "end_time": "2019-12-04T09:43:01.326094Z",
     "start_time": "2019-12-04T09:42:58.947447Z"
    }
   },
   "outputs": [
    {
     "data": {
      "text/plain": [
       "876"
      ]
     },
     "execution_count": 8,
     "metadata": {},
     "output_type": "execute_result"
    }
   ],
   "source": [
    "# part 2\n",
    "\n",
    "\n",
    "def at_least_one_duplicate(a):\n",
    "    b = [i for i in range(11, 100, 11)]\n",
    "    for i in b:\n",
    "        if (str(i) in str(a)):\n",
    "            if (str(i) + str(i)[0] not in str(a)):\n",
    "                return True\n",
    "    return False\n",
    "\n",
    "\n",
    "def alwasy_increasing(a):\n",
    "    for i in range(0, 5):\n",
    "        if (str(a)[i] > str(a)[i + 1]):\n",
    "            return False\n",
    "    return True\n",
    "\n",
    "\n",
    "number_of_passwords = sum([(at_least_one_duplicate(i) and alwasy_increasing(i))\n",
    "                           for i in range(231832, 767347)])\n",
    "number_of_passwords"
   ]
  },
  {
   "cell_type": "code",
   "execution_count": null,
   "metadata": {},
   "outputs": [],
   "source": []
  }
 ],
 "metadata": {
  "kernelspec": {
   "display_name": "Python 3",
   "language": "python",
   "name": "python3"
  },
  "language_info": {
   "codemirror_mode": {
    "name": "ipython",
    "version": 3
   },
   "file_extension": ".py",
   "mimetype": "text/x-python",
   "name": "python",
   "nbconvert_exporter": "python",
   "pygments_lexer": "ipython3",
   "version": "3.7.4"
  },
  "varInspector": {
   "cols": {
    "lenName": 16,
    "lenType": 16,
    "lenVar": 40
   },
   "kernels_config": {
    "python": {
     "delete_cmd_postfix": "",
     "delete_cmd_prefix": "del ",
     "library": "var_list.py",
     "varRefreshCmd": "print(var_dic_list())"
    },
    "r": {
     "delete_cmd_postfix": ") ",
     "delete_cmd_prefix": "rm(",
     "library": "var_list.r",
     "varRefreshCmd": "cat(var_dic_list()) "
    }
   },
   "types_to_exclude": [
    "module",
    "function",
    "builtin_function_or_method",
    "instance",
    "_Feature"
   ],
   "window_display": false
  }
 },
 "nbformat": 4,
 "nbformat_minor": 2
}
