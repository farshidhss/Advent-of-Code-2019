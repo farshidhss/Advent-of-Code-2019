{
 "cells": [
  {
   "cell_type": "code",
   "execution_count": 1,
   "metadata": {
    "ExecuteTime": {
     "end_time": "2019-12-06T07:28:37.000243Z",
     "start_time": "2019-12-06T07:28:35.944429Z"
    },
    "pycharm": {
     "is_executing": false
    }
   },
   "outputs": [
    {
     "data": {
      "text/plain": "387356"
     },
     "metadata": {},
     "output_type": "execute_result",
     "execution_count": 1
    }
   ],
   "source": [
    "# part 1\n",
    "import networkx as nx\n",
    "\n",
    "data=[tuple(a.split(')')) for a in open('input.txt').read().split('\\n')]\n",
    "\n",
    "G = nx.DiGraph()\n",
    "G.add_edges_from(data)\n",
    "# visualize stuff:\n",
    "# pos = nx.spring_layout(G)\n",
    "# nx.draw_networkx_nodes(G, pos, cmap=plt.get_cmap('jet'), node_size = 500)\n",
    "# nx.draw_networkx_labels(G, pos)\n",
    "# nx.draw_networkx_edges(G, pos, edgelist=G.edges(), edge_color='r', arrows=True)\n",
    "# plt.show()\n",
    "sum([len(nx.descendants(G,node)) for node in G.nodes()])"
   ]
  },
  {
   "cell_type": "code",
   "execution_count": 2,
   "metadata": {
    "ExecuteTime": {
     "end_time": "2019-12-06T07:28:39.139041Z",
     "start_time": "2019-12-06T07:28:39.122349Z"
    },
    "pycharm": {
     "is_executing": false
    }
   },
   "outputs": [
    {
     "name": "stdout",
     "text": [
      "532\n"
     ],
     "output_type": "stream"
    }
   ],
   "source": [
    "# part 2\n",
    "import networkx as nx\n",
    "\n",
    "data=[tuple(a.split(')')) for a in open('input.txt').read().split('\\n')]\n",
    "\n",
    "G = nx.Graph()\n",
    "G.add_edges_from(data)\n",
    "\n",
    "print (nx.shortest_path_length(G, source='YOU', target='SAN')-2)"
   ]
  },
  {
   "cell_type": "code",
   "execution_count": null,
   "metadata": {},
   "outputs": [],
   "source": []
  }
 ],
 "metadata": {
  "kernelspec": {
   "display_name": "Python 3",
   "language": "python",
   "name": "python3"
  },
  "language_info": {
   "codemirror_mode": {
    "name": "ipython",
    "version": 3
   },
   "file_extension": ".py",
   "mimetype": "text/x-python",
   "name": "python",
   "nbconvert_exporter": "python",
   "pygments_lexer": "ipython3",
   "version": "3.7.4"
  },
  "varInspector": {
   "cols": {
    "lenName": 16,
    "lenType": 16,
    "lenVar": 40
   },
   "kernels_config": {
    "python": {
     "delete_cmd_postfix": "",
     "delete_cmd_prefix": "del ",
     "library": "var_list.py",
     "varRefreshCmd": "print(var_dic_list())"
    },
    "r": {
     "delete_cmd_postfix": ") ",
     "delete_cmd_prefix": "rm(",
     "library": "var_list.r",
     "varRefreshCmd": "cat(var_dic_list()) "
    }
   },
   "types_to_exclude": [
    "module",
    "function",
    "builtin_function_or_method",
    "instance",
    "_Feature"
   ],
   "window_display": false
  },
  "pycharm": {
   "stem_cell": {
    "cell_type": "raw",
    "source": [],
    "metadata": {
     "collapsed": false
    }
   }
  }
 },
 "nbformat": 4,
 "nbformat_minor": 2
}