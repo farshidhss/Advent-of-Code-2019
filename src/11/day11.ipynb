{
 "cells": [
  {
   "cell_type": "code",
   "execution_count": 15,
   "metadata": {
    "pycharm": {
     "is_executing": false
    }
   },
   "outputs": [
    {
     "name": "stdout",
     "text": [
      "Part 1 answer:  2160\n"
     ],
     "output_type": "stream"
    }
   ],
   "source": [
    "from PIL import Image\n",
    "import numpy as np\n",
    "from matplotlib.pyplot import imshow\n",
    "%matplotlib inline\n",
    "\n",
    "def get_param(a, input_index, param_mode, rel_base):\n",
    "    if param_mode == 1:\n",
    "        return input_index\n",
    "    elif param_mode == 2:\n",
    "        return a[input_index] + rel_base \n",
    "    else:\n",
    "        return a[input_index] if input_index < len(a) else 0\n",
    "\n",
    "def get_digit(number, n):\n",
    "    return number // 10**n % 10\n",
    "\n",
    "def get_params(a, input_index, rel_base, out_idx):\n",
    "    param_mode = [get_digit(a[input_index], i) for i in range(2, 5)]\n",
    "    params = [get_param(a, input_index + i, param_mode[i-1], rel_base) for i in range(1,out_idx+1)]\n",
    "    return params\n",
    "\n",
    "def opcode_1(a, input_index, rel_base):\n",
    "    param_1, param_2, param_3 = get_params(a, input_index, rel_base, 3);\n",
    "    a[param_3] = a[param_1] + a[param_2]\n",
    "    return input_index + 4\n",
    "\n",
    "def opcode_2(a, input_index, rel_base):\n",
    "    param_1, param_2, param_3 = get_params(a, input_index, rel_base, 3);\n",
    "    a[param_3] = a[param_1] * a[param_2]\n",
    "    return input_index + 4\n",
    "\n",
    "def opcode_3(a, input_index, input_param, rel_base):\n",
    "    param_1, = get_params(a, input_index, rel_base, 1);\n",
    "    a[param_1] = input_param\n",
    "    # print ('a[',param_1, ']=', input_param, ' index: ', input_index)\n",
    "    return input_index + 2\n",
    "\n",
    "def opcode_4(a, input_index, rel_base):\n",
    "    param_1, _ = get_params(a, input_index, rel_base, 2);\n",
    "    return input_index + 2, a[param_1]\n",
    "\n",
    "def opcode_5(a, input_index, rel_base):\n",
    "    param_1, param_2, _ = get_params(a, input_index, rel_base, 3);\n",
    "    if a[param_1] > 0:\n",
    "        return  a[param_2]\n",
    "    return input_index + 3\n",
    "\n",
    "def opcode_6(a, input_index, rel_base):\n",
    "    param_1, param_2, _ = get_params(a, input_index, rel_base, 3);\n",
    "    if a[param_1] == 0:\n",
    "        return a[param_2]\n",
    "    return input_index + 3\n",
    "\n",
    "def opcode_7(a, input_index, rel_base):\n",
    "    param_1, param_2, param_3 = get_params(a, input_index, rel_base, 3);\n",
    "    a[param_3] = int(a[param_1] < a[param_2])\n",
    "    return input_index + 4 \n",
    "\n",
    "def opcode_8(a, input_index, rel_base):\n",
    "    param_1, param_2, param_3 = get_params(a, input_index, rel_base, 3);\n",
    "    a[param_3] = int(a[param_1] == a[param_2])\n",
    "    return input_index + 4\n",
    "\n",
    "def opcode_9(a, input_index, rel_base):\n",
    "    param_1, _ = get_params(a, input_index, rel_base, 2);\n",
    "    rel_modifier = param_1\n",
    "    return input_index + 2, rel_modifier\n",
    "\n",
    "opcodes = {1:opcode_1, 2: opcode_2, 3:opcode_3, 4:opcode_4, 5:opcode_5, 6: opcode_6, 7:opcode_7, 8:opcode_8, 9:opcode_9}\n",
    "\n",
    "def intcode(a, a_input):\n",
    "    input_index = 0\n",
    "    rel_base = 0\n",
    "    while a[input_index] != 99:\n",
    "        opcode = a[input_index] % 100\n",
    "        \n",
    "        if opcode == 3:\n",
    "            params_1 = a_input.pop(0)\n",
    "            input_index = opcode_3(a, input_index, params_1, rel_base)\n",
    "        elif opcode == 4:\n",
    "            input_index, out_result = opcode_4(a, input_index, rel_base)\n",
    "            yield out_result\n",
    "        elif opcode == 9:\n",
    "            input_index,rel_modifier = opcode_9(a, input_index, rel_base)\n",
    "            rel_base += a[rel_modifier]\n",
    "        else:\n",
    "            input_index = opcodes[opcode](a, input_index, rel_base)\n",
    "    yield 'Done'\n",
    "\n",
    "def init_2d_list(rows, columns):\n",
    "    return np.array([[0 for x in range(columns)] for y in range(rows)])\n",
    "\n",
    "def read_input(filename):\n",
    "    code = list(map(int, open(filename).read().split(\",\")))\n",
    "    code.extend([0]*100000)\n",
    "    return code\n",
    "\n",
    "def paint_board(code, input_values):\n",
    "    board = init_2d_list(200, 200)\n",
    "    start = (100, 100)\n",
    "    start_dir = (0, 1)\n",
    "    cur_p = start\n",
    "    cur_dir = start_dir\n",
    "    paint_counter = {}\n",
    "    computer = intcode(code, input_values)\n",
    "    while True:\n",
    "        out_color = next(computer)\n",
    "        if out_color == 'Done': break\n",
    "        board[cur_p] = out_color\n",
    "        out_dir = next(computer)\n",
    "        if out_dir == 'Done': break\n",
    "        if out_dir == 0:\n",
    "            cur_dir = (-cur_dir[1], cur_dir[0])\n",
    "            cur_p = (cur_p[0] + cur_dir[0], cur_p[1] + cur_dir[1])\n",
    "        elif out_dir == 1:\n",
    "            cur_dir = (cur_dir[1], -cur_dir[0])\n",
    "            cur_p = (cur_p[0] + cur_dir[0], cur_p[1] + cur_dir[1])\n",
    "        input_values.append(board[cur_p])\n",
    "        paint_counter[cur_p] = paint_counter.get(cur_p, 0) + 1\n",
    "    return paint_counter, board\n",
    "\n",
    "code = read_input('input.txt')\n",
    "input_values = [0]\n",
    "paint_counter, board = paint_board(code, input_values)\n",
    "print ('Part 1 answer: ', len(paint_counter))"
   ]
  },
  {
   "cell_type": "code",
   "execution_count": 17,
   "outputs": [
    {
     "data": {
      "text/plain": "<matplotlib.image.AxesImage at 0x123bc9690>"
     },
     "metadata": {},
     "output_type": "execute_result",
     "execution_count": 17
    },
    {
     "data": {
      "text/plain": "<Figure size 432x288 with 1 Axes>",
      "image/png": "[encoded data removed]"
     },
     "metadata": {
      "needs_background": "light"
     },
     "output_type": "display_data"
    }
   ],
   "source": [
    "def bounding_box(img):\n",
    "    rows = np.any(img, axis=1)\n",
    "    cols = np.any(img, axis=0)\n",
    "    rmin, rmax = np.where(rows)[0][[0, -1]]\n",
    "    cmin, cmax = np.where(cols)[0][[0, -1]]\n",
    "\n",
    "    return rmin, rmax, cmin, cmax\n",
    "\n",
    "code = read_input('input.txt')\n",
    "input_values = [1]\n",
    "paint_counter, board = paint_board(code, input_values)\n",
    "\n",
    "rmin, rmax, cmin, cmax = bounding_box(board)\n",
    "\n",
    "image_array = board[rmin:rmax + 1, cmin:cmax + 1]\n",
    "pixels = 255 * (1.0 - image_array)\n",
    "im = Image.fromarray(pixels.astype(np.uint8), mode='L')\n",
    "im = im.rotate(90, expand='True')\n",
    "imshow(im)\n"
   ],
   "metadata": {
    "collapsed": false,
    "pycharm": {
     "name": "#%%\n",
     "is_executing": false
    }
   }
  }
 ],
 "metadata": {
  "kernelspec": {
   "display_name": "Python 3",
   "language": "python",
   "name": "python3"
  },
  "language_info": {
   "codemirror_mode": {
    "name": "ipython",
    "version": 3
   },
   "file_extension": ".py",
   "mimetype": "text/x-python",
   "name": "python",
   "nbconvert_exporter": "python",
   "pygments_lexer": "ipython3",
   "version": "3.7.4"
  },
  "varInspector": {
   "cols": {
    "lenName": 16,
    "lenType": 16,
    "lenVar": 40
   },
   "kernels_config": {
    "python": {
     "delete_cmd_postfix": "",
     "delete_cmd_prefix": "del ",
     "library": "var_list.py",
     "varRefreshCmd": "print(var_dic_list())"
    },
    "r": {
     "delete_cmd_postfix": ") ",
     "delete_cmd_prefix": "rm(",
     "library": "var_list.r",
     "varRefreshCmd": "cat(var_dic_list()) "
    }
   },
   "types_to_exclude": [
    "module",
    "function",
    "builtin_function_or_method",
    "instance",
    "_Feature"
   ],
   "window_display": false
  },
  "pycharm": {
   "stem_cell": {
    "cell_type": "raw",
    "source": [],
    "metadata": {
     "collapsed": false
    }
   }
  }
 },
 "nbformat": 4,
 "nbformat_minor": 2
}